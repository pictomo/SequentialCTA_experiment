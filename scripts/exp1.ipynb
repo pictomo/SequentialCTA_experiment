{
 "cells": [
  {
   "cell_type": "code",
   "execution_count": 11,
   "metadata": {},
   "outputs": [
    {
     "name": "stdout",
     "output_type": "stream",
     "text": [
      "HumanAI.io\n"
     ]
    }
   ],
   "source": [
    "from haio import help\n",
    "import inspect\n",
    "import sys\n",
    "import os\n",
    "\n",
    "help()"
   ]
  },
  {
   "cell_type": "code",
   "execution_count": 12,
   "metadata": {},
   "outputs": [
    {
     "name": "stdout",
     "output_type": "stream",
     "text": [
      "[0, 1, 2, 3, 4, 5, 6, 7, 8, 9]\n"
     ]
    }
   ],
   "source": [
    "print(list(range(10)))"
   ]
  },
  {
   "cell_type": "code",
   "execution_count": 13,
   "metadata": {},
   "outputs": [
    {
     "name": "stdout",
     "output_type": "stream",
     "text": [
      "/Users/pictomo/Repositories/SequentialCTA_experiment/venv/lib/python3.12/site-packages/ipykernel_launcher.py\n",
      "/var/folders/lc/xltvcjxj36qgw_bk7bn42jp00000gn/T/ipykernel_60790/3050896612.py\n"
     ]
    }
   ],
   "source": [
    "print(os.path.abspath(sys.argv[0]))\n",
    "print(inspect.getfile(inspect.currentframe()))"
   ]
  }
 ],
 "metadata": {
  "kernelspec": {
   "display_name": "venv",
   "language": "python",
   "name": "python3"
  },
  "language_info": {
   "codemirror_mode": {
    "name": "ipython",
    "version": 3
   },
   "file_extension": ".py",
   "mimetype": "text/x-python",
   "name": "python",
   "nbconvert_exporter": "python",
   "pygments_lexer": "ipython3",
   "version": "3.12.6"
  }
 },
 "nbformat": 4,
 "nbformat_minor": 2
}
