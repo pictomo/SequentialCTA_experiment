{
 "cells": [
  {
   "cell_type": "code",
   "execution_count": 6,
   "metadata": {},
   "outputs": [],
   "source": [
    "from datetime import datetime\n",
    "from haio import (\n",
    "    HAIOClient,\n",
    "    Gemini_IO,\n",
    "    OpenAI_IO,\n",
    "    Bedrock_IO,\n",
    "    QuestionTemplate,\n",
    "    img_to_url,\n",
    ")\n",
    "import json\n",
    "import sys\n",
    "\n",
    "sys.path.append(\"../modules\")\n",
    "\n",
    "from virtual_human_io import VirtualHuman_IO\n",
    "from vec_to_img import vec_to_img"
   ]
  },
  {
   "cell_type": "code",
   "execution_count": 7,
   "metadata": {},
   "outputs": [],
   "source": [
    "# prepare data\n",
    "\n",
    "from tensorflow.keras.datasets import cifar10\n",
    "\n",
    "(x_train, y_train), (x_test, y_test) = cifar10.load_data()\n",
    "\n",
    "labels = [\n",
    "    \"Airplane\",\n",
    "    \"Car\",\n",
    "    \"Bird\",\n",
    "    \"Cat\",\n",
    "    \"Deer\",\n",
    "    \"Dog\",\n",
    "    \"Frog\",\n",
    "    \"Horse\",\n",
    "    \"Ship\",\n",
    "    \"Truck\",\n",
    "]"
   ]
  },
  {
   "cell_type": "code",
   "execution_count": 8,
   "metadata": {},
   "outputs": [],
   "source": [
    "# prepare haio\n",
    "\n",
    "\n",
    "virtual_human_io = VirtualHuman_IO()\n",
    "gemini_io = Gemini_IO()\n",
    "openai_io = OpenAI_IO()\n",
    "llama_io = Bedrock_IO(\"us.meta.llama3-2-90b-instruct-v1:0\")\n",
    "claude_io = Bedrock_IO(\"us.amazon.nova-lite-v1:0\")\n",
    "\n",
    "haio_client = HAIOClient(\n",
    "    filepath=\"/Users/pictomo/Repositories/SequentialCTA_experiment/scripts\",\n",
    "    human_io=virtual_human_io,\n",
    "    openai_io=openai_io,\n",
    "    gemini_io=gemini_io,\n",
    "    llama_io=llama_io,\n",
    "    nova_io=claude_io,\n",
    "    # claude_io=claude_io,\n",
    ")\n",
    "\n",
    "question_template: QuestionTemplate = QuestionTemplate(\n",
    "    title=\"CIFAR-10 Image Classification\",\n",
    "    description=\"Classify the image using the CIFAR-10 dataset\",\n",
    "    question=[\n",
    "        {\"tag\": \"img\", \"src\": 0},\n",
    "        {\n",
    "            \"tag\": \"h1\",\n",
    "            \"value\": \"Choose the label that best describes the image from the options.\",\n",
    "        },\n",
    "        {\"tag\": \"p\", \"value\": \" \".join(labels)},\n",
    "    ],\n",
    "    answer={\n",
    "        \"type\": \"select\",\n",
    "        \"options\": labels,\n",
    "    },\n",
    ")"
   ]
  },
  {
   "cell_type": "code",
   "execution_count": 9,
   "metadata": {},
   "outputs": [],
   "source": [
    "async def expr1(execution_config: dict, task_count: int) -> dict:\n",
    "    result = {\"question_count\": [0], \"human_count\": [0], \"collect_count\": [0]}\n",
    "    for i in range(task_count):\n",
    "        img_url = img_to_url(img_data=vec_to_img(x_train[i]), mime_type=\"image/png\")\n",
    "        data_list = [img_url]\n",
    "        asked_questions = []\n",
    "        asked_questions.append(\n",
    "            haio_client.ask(\n",
    "                question_template=question_template,\n",
    "                data_list=data_list,\n",
    "            )\n",
    "        )\n",
    "        answer_info: HAIOClient.MethodReturn = await haio_client.wait(\n",
    "            asked_questions=asked_questions, execution_config=execution_config\n",
    "        )\n",
    "        result[\"question_count\"].append(result[\"question_count\"][-1] + 1)\n",
    "        result[\"human_count\"].append(\n",
    "            result[\"human_count\"][-1] + answer_info[\"add_human_assign\"]\n",
    "        )\n",
    "        if answer_info[\"answer_list\"][0] == labels[y_train[i][0]]:\n",
    "            result[\"collect_count\"].append(result[\"collect_count\"][-1] + 1)\n",
    "\n",
    "    return result"
   ]
  },
  {
   "cell_type": "code",
   "execution_count": 10,
   "metadata": {},
   "outputs": [],
   "source": [
    "timestamp = datetime.now().strftime(\"%Y%m%d%H%M%S%f\")\n",
    "execution_config = {\"method\": \"sequential_cta_1\", \"quality_requirement\": 0.9}\n",
    "result = await expr1(execution_config=execution_config, task_count=10)\n",
    "with open(f\"../results/test{timestamp}.json\", \"w\") as f:\n",
    "    json.dump(result, f)"
   ]
  }
 ],
 "metadata": {
  "kernelspec": {
   "display_name": "venv",
   "language": "python",
   "name": "python3"
  },
  "language_info": {
   "codemirror_mode": {
    "name": "ipython",
    "version": 3
   },
   "file_extension": ".py",
   "mimetype": "text/x-python",
   "name": "python",
   "nbconvert_exporter": "python",
   "pygments_lexer": "ipython3",
   "version": "3.12.6"
  }
 },
 "nbformat": 4,
 "nbformat_minor": 2
}
